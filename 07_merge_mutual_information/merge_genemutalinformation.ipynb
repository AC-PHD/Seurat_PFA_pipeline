{
 "cells": [
  {
   "cell_type": "code",
   "execution_count": 1,
   "id": "9c4aadfc-b80b-4433-8800-03b7d5feb858",
   "metadata": {},
   "outputs": [],
   "source": [
    "import pandas as pd\n",
    "\n",
    "# Read the input CSV file and extract the first column\n",
    "df = pd.read_csv(\"ASPCs_as_0_Adipocytes_as_1.csv\", usecols=[0])\n",
    "\n",
    "# Rename the column to 'Genname'\n",
    "df = df.rename(columns={df.columns[0]: 'Genname'})\n",
    "\n",
    "# Add a new column with index values starting from 1\n",
    "df['index feature'] = range(1, len(df) + 1)\n",
    "\n",
    "# Write the DataFrame to a new CSV file\n",
    "df.to_csv(\"Genname.csv\", index=False)\n",
    "\n",
    "# Read the CSV files and merge them based on the 'index feature' column\n",
    "mi_df = pd.read_csv(\"gene_mutual_information.csv\")\n",
    "genname_df = pd.read_csv(\"Genname.csv\")\n",
    "merged_df = pd.merge(mi_df, genname_df, on=\"index feature\")\n",
    "\n",
    "# Reorder the columns\n",
    "merged_df = merged_df[['Genname', 'index feature', 'mutual information']]\n",
    "\n",
    "# Write the merged DataFrame to a new CSV file\n",
    "merged_df.to_csv(\"Genemutalinformation_results.csv\", index=False)"
   ]
  }
 ],
 "metadata": {
  "kernelspec": {
   "display_name": "Python 3 (ipykernel)",
   "language": "python",
   "name": "python3"
  },
  "language_info": {
   "codemirror_mode": {
    "name": "ipython",
    "version": 3
   },
   "file_extension": ".py",
   "mimetype": "text/x-python",
   "name": "python",
   "nbconvert_exporter": "python",
   "pygments_lexer": "ipython3",
   "version": "3.7.11"
  }
 },
 "nbformat": 4,
 "nbformat_minor": 5
}

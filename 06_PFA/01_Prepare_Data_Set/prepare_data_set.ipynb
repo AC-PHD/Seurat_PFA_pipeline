{
 "cells": [
  {
   "cell_type": "code",
   "execution_count": null,
   "id": "b883622a",
   "metadata": {},
   "outputs": [],
   "source": [
    "#pip install pandas"
   ]
  },
  {
   "cell_type": "code",
   "execution_count": null,
   "id": "848447d0",
   "metadata": {},
   "outputs": [],
   "source": [
    "import pandas as pd"
   ]
  },
  {
   "cell_type": "code",
   "execution_count": null,
   "id": "5e7902c1",
   "metadata": {},
   "outputs": [],
   "source": [
    "path=\"result_1.csv\" #Please insert correct file input name\n",
    "\n",
    "data=pd.read_csv(path, header=None)\n",
    "gene_names=pd.DataFrame({'gene_names': list(data.iloc[:,0])})\n",
    "expression_data=data.iloc[:,1:]\n",
    "\n",
    "gene_names.to_csv('gene_names.csv',index=False)\n",
    "expression_data.to_csv('PFA_analysis_data.csv',index=False, header=False)"
   ]
  }
 ],
 "metadata": {
  "kernelspec": {
   "display_name": "Python 3 (ipykernel)",
   "language": "python",
   "name": "python3"
  },
  "language_info": {
   "codemirror_mode": {
    "name": "ipython",
    "version": 3
   },
   "file_extension": ".py",
   "mimetype": "text/x-python",
   "name": "python",
   "nbconvert_exporter": "python",
   "pygments_lexer": "ipython3",
   "version": "3.10.8"
  }
 },
 "nbformat": 4,
 "nbformat_minor": 5
}

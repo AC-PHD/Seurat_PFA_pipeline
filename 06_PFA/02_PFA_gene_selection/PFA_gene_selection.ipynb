{
 "cells": [
  {
   "cell_type": "code",
   "execution_count": null,
   "id": "dd803c3c",
   "metadata": {},
   "outputs": [],
   "source": [
    "#pip install networkx\n",
    "#pip install scipy\n",
    "#pip install principal-feature-analysis\n",
    "#pip install pandas"
   ]
  },
  {
   "cell_type": "code",
   "execution_count": null,
   "id": "cc1042bd",
   "metadata": {},
   "outputs": [],
   "source": [
    "from principal_feature_analysis import pfa \n",
    "import pandas as pd"
   ]
  },
  {
   "cell_type": "code",
   "execution_count": null,
   "id": "71357f03",
   "metadata": {},
   "outputs": [],
   "source": [
    "res,mutual_information=pfa(path=\"PFA_analysis_data.csv\", calculate_mutual_information=True,\n",
    "                           cluster_size=300, min_n_datapoints_a_bin=100)\n",
    "mutual_information=mutual_information[0]\n",
    "\n",
    "gene_names=pd.read_csv('gene_names.csv')\n",
    "gene_names=gene_names.iloc[res,:].reset_index(drop=True)\n",
    "\n",
    "print(mutual_information)\n",
    "mutual_information=mutual_information.join(gene_names)\n",
    "\n",
    "\n",
    "mutual_information_sorted=mutual_information.sort_values(by=[\"mutual information\"], ascending=False)\n",
    "mutual_information_sorted.to_csv('gene_mutual_information.csv', index=False)\n",
    "\n",
    "f = open(\"principal_features_for_model.txt\", \"w\")\n",
    "for i in res:\n",
    "    f.write(str(i)+str(\",\"))\n",
    "f.close()"
   ]
  }
 ],
 "metadata": {
  "kernelspec": {
   "display_name": "Python 3 (ipykernel)",
   "language": "python",
   "name": "python3"
  },
  "language_info": {
   "codemirror_mode": {
    "name": "ipython",
    "version": 3
   },
   "file_extension": ".py",
   "mimetype": "text/x-python",
   "name": "python",
   "nbconvert_exporter": "python",
   "pygments_lexer": "ipython3",
   "version": "3.10.8"
  }
 },
 "nbformat": 4,
 "nbformat_minor": 5
}
